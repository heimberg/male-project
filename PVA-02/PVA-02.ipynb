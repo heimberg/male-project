{
  "cells": [
    {
      "attachments": {},
      "cell_type": "markdown",
      "metadata": {
        "id": "45iaS17IoNgA"
      },
      "source": [
        "# PVA-02\n",
        "## Vorgehen CSV Dateien\n",
        "1. Erste Zeile aus Dateien '\\PVA-02\\Datensatz\\CSVs\\Datensatz-CorneliaIsenschmid.csv' und '\\PVA-02\\Datensatz\\CSVs\\Datensatz_VivianeRogenmoser.csv' manuell entfernt, da diese Zeilen keine Daten enthalten.\n",
        "2. Erste Spalte aus Datei '\\PVA-02\\Datensatz\\CSVs\\Datensatz_VivianeRogenmoser.csv' manuell entfernt, da diese keine Daten enthält\n",
        "3. Python Skript erstellt in welchem die folgenden Schritte nacheinander durchgeführt werden:\n",
        "   1. Leere Zeilen aus allen CSV Dateien entfernen (dies betrifft nur die Datei '\\PVA-02\\Datensatz\\CSVs\\Datensatz_OlgaEngelmann.csv' aber wäre manuell zu aufwändig)\n",
        "   2. Eine Datei enthält 'kreuz', 'kreis', 'plus', 'minus' und 'gartenhag' an Stelle von 'x', 'o', '+', '-' und '#'. Diese werden durch die entsprechenden Zeichen ersetzt.\n",
        "   3. Eine Datei enthält 'True' und 'False' an Stelle von '1' und '0'. Diese werden durch die entsprechenden Zeichen ersetzt, zugleich werden die Pixelwerte auf 1 normiert. So enthalten alle Spalten mit Pixelwerten ausschliesslich 0 und 1.\n",
        "   4. Sämtliche Zahlenwerte werden in Integer umgewandelt.\n",
        "\n",
        "Die korrigierten CSV Dateien sind unter '\\PVA-02\\Datensatz\\CSVs\\corrected' zu finden.\n",
        "\n",
        "Das dazu verwendete Skript:"
      ]
    },
    {
      "cell_type": "code",
      "execution_count": null,
      "metadata": {
        "id": "fFItAibpoHIK"
      },
      "outputs": [],
      "source": [
        "import os\n",
        "import csv\n",
        "\n",
        "# Define the correction rules for symbols\n",
        "def substitute(symbol):\n",
        "    symbol = symbol.replace(\"minus\", \"-\")\n",
        "    symbol = symbol.replace(\"kreuz\", \"x\")\n",
        "    symbol = symbol.replace(\"plus\", \"+\")\n",
        "    symbol = symbol.replace(\"gartenhag\", \"#\")\n",
        "    symbol = symbol.replace(\"kreis\", \"o\")\n",
        "    return symbol\n",
        "\n",
        "# \"normalize\" to 1\n",
        "def substitute_numbers(number):\n",
        "    if number == \"255\":\n",
        "        return \"1\"\n",
        "    elif number == \"True\":\n",
        "        return \"1\"\n",
        "    elif number == \"False\":\n",
        "        return \"0\"\n",
        "    elif number == \"1.0\":\n",
        "        return \"1\"\n",
        "    elif number == \"0.0\":\n",
        "        return \"0\"\n",
        "    else:\n",
        "        return number\n",
        "    \n",
        "# Define the input and output directories\n",
        "input_dir = \"./PVA-02/Datensatz/CSVs/\"\n",
        "output_dir = \"./PVA-02/Datensatz/CSVs/corrected/\"\n",
        "\n",
        "# Loop through the input files\n",
        "for filename in os.listdir(input_dir):\n",
        "    # remove empty lines in the csv files\n",
        "    if filename.endswith(\".csv\"):\n",
        "        print(\"Processing file \" + filename)\n",
        "        with open(input_dir + filename, \"r\") as input_file:\n",
        "            lines = input_file.readlines()\n",
        "        lines = [line for line in lines if line.strip()]\n",
        "        with open(input_dir + filename, \"w\") as output_file:\n",
        "            output_file.writelines(lines)\n",
        "        # correct the symbols in the csv files\n",
        "        for i in range(len(lines)):\n",
        "                columns = lines[i].split(\",\")\n",
        "                columns[0] = substitute(columns[0])\n",
        "                lines[i] = \",\".join(columns)\n",
        "        with open(input_dir + filename, \"w\") as output_file:\n",
        "            output_file.writelines(lines)\n",
        "        # normalize 255 -> 1\n",
        "        for i in range(len(lines)):\n",
        "            columns = lines[i].split(\",\")\n",
        "            for j in range(len(columns)):\n",
        "                columns[j] = substitute_numbers(columns[j])\n",
        "            lines[i] = \",\".join(columns)\n",
        "        with open(input_dir + filename, \"w\") as output_file:\n",
        "            output_file.writelines(lines)\n",
        "        # count the occurence of 0 and 1\n",
        "        count_0 = 0\n",
        "        count_1 = 0\n",
        "        for line in lines:\n",
        "            columns = line.split(\",\")\n",
        "            for column in columns:\n",
        "                if column == \"0\":\n",
        "                    count_0 += 1\n",
        "                elif column == \"1\":\n",
        "                    count_1 += 1\n",
        "        # modify files with count(0) < count(1)\n",
        "        if count_0 < count_1:\n",
        "            for i in range(len(lines)):\n",
        "                columns = lines[i].split(\",\")\n",
        "                for j in range(len(columns)):\n",
        "                    if columns[j] == \"0\":\n",
        "                        columns[j] = \"1\"\n",
        "                    elif columns[j] == \"1\":\n",
        "                        columns[j] = \"0\"\n",
        "                lines[i] = \",\".join(columns)\n",
        "        # write modified files to output directory\n",
        "        with open(output_dir + filename, \"w\") as output_file:\n",
        "            output_file.writelines(lines)\n"
      ]
    },
    {
      "cell_type": "markdown",
      "metadata": {
        "id": "vk-Qy_6coGFV"
      },
      "source": [
        "\n",
        "## Vorgehen Bilddateien\n",
        "1. Prüfung ob das Bild eine Grösse von 10x10 Pixeln hat. Falls nicht, wird das Bild auf 10x10 Pixel skaliert.\n",
        "2. Anpassen der Dateinamen gemäss der Vorgaben in der Aufgabenstellung.\n",
        "\n",
        "Das dazu verwendete Script:"
      ]
    },
    {
      "cell_type": "code",
      "execution_count": null,
      "metadata": {
        "id": "BZ1K3KiEofzm"
      },
      "outputs": [],
      "source": [
        "import os\n",
        "from PIL import Image\n",
        "\n",
        "# clean up the pictures in the folder 'Bilder'\n",
        "\n",
        "# Resize all pictures  to 10x10 pixels\n",
        "# and save them in the folder 'resized'\n",
        "\n",
        "input_dir = \"./PVA-02/Datensatz/Bilder\"\n",
        "output_dir = \"./PVA-02/Datensatz/Bilder/resized\"\n",
        "\n",
        "for file_name in os.listdir(input_dir):\n",
        "    if file_name.endswith(\".png\"):\n",
        "        img = Image.open(os.path.join(input_dir, file_name))\n",
        "        if img.size != (10, 10):\n",
        "            img = img.resize((10, 10))\n",
        "        output_file_name = os.path.join(output_dir, file_name)\n",
        "        img.save(output_file_name)\n",
        "        \n",
        "# rename pictures who do not have the right name\n",
        "# the right name starts with [-,+,#,o]. Search and replace like:\n",
        "# minus -> -\n",
        "# kreuz -> +\n",
        "# gartenhag -> #\n",
        "# kreis -> o\n",
        "# the rest of the name is the same\n",
        "# save in the same folder\n",
        "\n",
        "input_dir = \"./PVA-02/Datensatz/Bilder/resized\"\n",
        "output_dir = \"./PVA-02/Datensatz/Bilder/resized\"\n",
        "\n",
        "for file_name in os.listdir(input_dir):\n",
        "    if file_name.endswith(\".png\"):\n",
        "        output_file_name = file_name.replace(\"minus\", \"-\")\n",
        "        output_file_name = output_file_name.replace(\"kreuz\", \"x\")\n",
        "        output_file_name = output_file_name.replace(\"plus\", \"+\")\n",
        "        output_file_name = output_file_name.replace(\"gartenhag\", \"#\")\n",
        "        output_file_name = output_file_name.replace(\"kreis\", \"o\")\n",
        "        output_file_name = os.path.join(output_dir, output_file_name)\n",
        "        os.rename(os.path.join(input_dir, file_name), output_file_name)\n"
      ]
    },
    {
      "attachments": {},
      "cell_type": "markdown",
      "metadata": {},
      "source": [
        "Die Dateien werden durch die beiden Skripte so umgewandelt, dass diese sowohl in Dateinamen wie auch im Inhalt mit der Aufgabenstellung aus PVA-01 übereinstimmen. Folgende Punkte wurden dabei angepasst:\n",
        "- Dateinamen gemäss Konvention\n",
        "- Bildgrösse skaliert auf 10x10 Pixel \n",
        "- Pixelwerte auf 0 und 1 normiert\n",
        "- Pixelwerte in positive Bilddateien umgewandelt (mehr '0' als '1')"
      ]
    }
  ],
  "metadata": {
    "colab": {
      "provenance": []
    },
    "kernelspec": {
      "display_name": "Python 3",
      "name": "python3"
    },
    "language_info": {
      "name": "python"
    }
  },
  "nbformat": 4,
  "nbformat_minor": 0
}
