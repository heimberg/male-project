{
 "cells": [
  {
   "attachments": {},
   "cell_type": "markdown",
   "metadata": {},
   "source": [
    "# PVA-03\n",
    "Zunächst werden die Datensätze aus der letzten Aufgabe geladen und in eine einzelne `csv`-Datei zusammengeführt.\n"
   ]
  },
  {
   "cell_type": "code",
   "execution_count": 14,
   "metadata": {},
   "outputs": [],
   "source": [
    "import os\n",
    "import csv\n",
    "\n",
    "directory = 'Datensatz/'\n",
    "csv_files = [f for f in os.listdir(directory)]\n",
    "\n",
    "combined_data = []\n",
    "\n",
    "for file in csv_files:\n",
    "    filepath = os.path.join(directory, file)\n",
    "    with open(filepath, 'r') as csvfile:\n",
    "        reader = csv.reader(csvfile)\n",
    "        for row in reader:\n",
    "            combined_data.append(row)\n",
    "\n",
    "with open('combined_data.csv', 'w', newline='') as outfile:\n",
    "    writer = csv.writer(outfile)\n",
    "    for row in combined_data:\n",
    "        writer.writerow(row)"
   ]
  },
  {
   "attachments": {},
   "cell_type": "markdown",
   "metadata": {},
   "source": [
    "Als nächstes wird das CSV File in ein Pandas Dataframe geladen:"
   ]
  },
  {
   "cell_type": "code",
   "execution_count": null,
   "metadata": {},
   "outputs": [],
   "source": [
    "import pandas as pd\n",
    "\n",
    "dataframe = pd.read_csv('combined_data.csv', header=None, delimiter=',')\n"
   ]
  }
 ],
 "metadata": {
  "kernelspec": {
   "display_name": "Python 3",
   "language": "python",
   "name": "python3"
  },
  "language_info": {
   "codemirror_mode": {
    "name": "ipython",
    "version": 3
   },
   "file_extension": ".py",
   "mimetype": "text/x-python",
   "name": "python",
   "nbconvert_exporter": "python",
   "pygments_lexer": "ipython3",
   "version": "3.9.13"
  },
  "orig_nbformat": 4
 },
 "nbformat": 4,
 "nbformat_minor": 2
}
